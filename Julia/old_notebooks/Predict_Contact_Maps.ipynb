{
 "cells": [
  {
   "cell_type": "code",
   "execution_count": 1,
   "id": "4d2000d2-5117-4bd1-b88b-6125d39a7d2f",
   "metadata": {},
   "outputs": [
    {
     "name": "stdout",
     "output_type": "stream",
     "text": [
      "\u001b[0m\u001b[1mTest Summary:                             | \u001b[22m\u001b[32m\u001b[1mPass  \u001b[22m\u001b[39m\u001b[36m\u001b[1mTotal\u001b[22m\u001b[39m\n",
      "Validation of transforms.                 | \u001b[32m   7  \u001b[39m\u001b[36m    7\u001b[39m\n",
      "  Forward transforms vs analytic results. | \u001b[32m   3  \u001b[39m\u001b[36m    3\u001b[39m\n",
      "  Inverse transforms vs input values.     | \u001b[32m   4  \u001b[39m\u001b[36m    4\u001b[39m\n"
     ]
    }
   ],
   "source": [
    "using NPZ\n",
    "using CSV\n",
    "using FFTW\n",
    "using HDF5\n",
    "using Optim\n",
    "using PyPlot\n",
    "using PyCall\n",
    "using DataFrames\n",
    "using Statistics\n",
    "using Distributed\n",
    "using OffsetArrays\n",
    "using SparseArrays\n",
    "using StaticArrays\n",
    "using SharedArrays\n",
    "using LinearAlgebra\n",
    "using ProgressMeter\n",
    "using BenchmarkTools\n",
    "using DelimitedFiles\n",
    "using ImageFiltering\n",
    "using DelimitedFiles\n",
    "\n",
    "#\n",
    "cmasher = pyimport(\"cmasher\")\n",
    "\n",
    "# include custom code\n",
    "include(\"./Test/runtests.jl\")\n",
    "include(\"./Source/ActivePolymer.jl\")\n",
    "using .ActivePolymer\n",
    "using .ActivePolymer.CorrelationMatrices"
   ]
  },
  {
   "cell_type": "markdown",
   "id": "71e6099e-7f16-4529-85bd-950691156c1b",
   "metadata": {},
   "source": [
    "# Notebook description\n",
    "\n",
    "The purpose of this notebook is to predict contact probability density maps, provided that we know the mechanical properties of the polymer."
   ]
  },
  {
   "cell_type": "code",
   "execution_count": 2,
   "id": "f87f885b-20aa-4ccf-8262-0f7526545fb4",
   "metadata": {},
   "outputs": [],
   "source": [
    "folder = \"predictions\"\n",
    "mkpath(folder)\n",
    "\n",
    "R, ΔR = ActivePolymer.Optimization.Interface.load_data(\"Deq1\");\n",
    "\n",
    "# Three-parameter fits\n",
    "modeltype   = ActivePolymer.Optimization.Model.Full\n",
    "jacmodule   = ActivePolymer.Jacobian.Discrete\n",
    "n = 3\n",
    "parameters  = ActivePolymer.Optimization.Interface.fit_mechanics(\n",
    "    ΔR, modeltype=modeltype, jacmodule=jacmodule, n=n, padding=0.85)\n",
    "jacobian    = jacmodule.J(parameters.minimizer[2:end]..., n)\n",
    "\n",
    "data_groundtruth = npzread(\"../Share/ABidentities_blobel2021_chr2_35Mb_60Mb.npy\");"
   ]
  },
  {
   "cell_type": "code",
   "execution_count": 3,
   "id": "aaccf9be-27f5-4d70-9ea3-22f2d764cee5",
   "metadata": {},
   "outputs": [],
   "source": [
    "for difference in 0:0.025:1\n",
    "    activity = parameters.minimizer[1] .* (1.0 .+ difference .* (data_groundtruth .- 0.5))\n",
    "    correlation = ActivePolymer.Transform.Forward.compute_conformation(activity, J=jacobian, fourier_type=ActivePolymer.Methods.FastFourier.DCT) \n",
    "    separation  = correlation |> ActivePolymer.Methods.Real.correlation_to_separation;\n",
    "    probability = ((2pi/3)*separation).^(-3/2) |> real\n",
    "    writedlm(\n",
    "        [folder, \"/contact_probability-activity_difference_\", string(difference), \".csv\"] |> join,  \n",
    "        probability, ',')\n",
    "end"
   ]
  }
 ],
 "metadata": {
  "kernelspec": {
   "display_name": "Julia 1.8.2",
   "language": "julia",
   "name": "julia-1.8"
  },
  "language_info": {
   "file_extension": ".jl",
   "mimetype": "application/julia",
   "name": "julia",
   "version": "1.8.2"
  }
 },
 "nbformat": 4,
 "nbformat_minor": 5
}
