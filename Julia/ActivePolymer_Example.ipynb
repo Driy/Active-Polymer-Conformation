{
 "cells": [
  {
   "cell_type": "code",
   "execution_count": null,
   "id": "f86ed8e7-f7d2-4d26-8ac7-c9a96a89eeb9",
   "metadata": {},
   "outputs": [],
   "source": [
    "using NPZ\n",
    "using Plots\n",
    "using FFTW\n",
    "using Optim\n",
    "using Statistics\n",
    "using Distributed\n",
    "using OffsetArrays\n",
    "using SparseArrays\n",
    "using StaticArrays\n",
    "using SharedArrays\n",
    "using LinearAlgebra\n",
    "using BenchmarkTools\n",
    "using DelimitedFiles\n",
    "\n",
    "# include custom code\n",
    "include(\"./Test/runtests.jl\")\n",
    "include(\"./Source/ActivePolymer.jl\")\n",
    "using .ActivePolymer\n",
    "using .ActivePolymer.CorrelationMatrices"
   ]
  },
  {
   "cell_type": "markdown",
   "id": "87f9ec7c-6df6-4fd9-b9cd-f4ebd48d5076",
   "metadata": {},
   "source": [
    "# Notebook description\n",
    "\n",
    "This notebook provides a minimal example to illustrate how one can determine the mean squared separation matrix of an active polymer"
   ]
  },
  {
   "cell_type": "code",
   "execution_count": null,
   "id": "f9859e52-eee8-4d52-8923-fd0dcae5cac6",
   "metadata": {
    "tags": []
   },
   "outputs": [],
   "source": [
    "N=512\n",
    "ϵ=0.0000001\n",
    "α=12.0pi/512.0\n",
    "C_diagonal    = CorrelationMatrices.diagonal_generic(N, profile=(s->1.0));\n",
    "ΔR_numeric    = ActivePolymer.Transform.Forward.compute_conformation(C_diagonal, fourier_type=ActivePolymer.Methods.FastFourier.DCT) |> ActivePolymer.Methods.Real.correlation_to_separation;"
   ]
  },
  {
   "cell_type": "code",
   "execution_count": null,
   "id": "cf303860-7ebd-4aea-9d70-9cf9f314a38a",
   "metadata": {},
   "outputs": [],
   "source": [
    "heatmap(ΔR_numeric)"
   ]
  }
 ],
 "metadata": {
  "kernelspec": {
   "display_name": "Julia 1.8.2",
   "language": "julia",
   "name": "julia-1.8"
  },
  "language_info": {
   "file_extension": ".jl",
   "mimetype": "application/julia",
   "name": "julia",
   "version": "1.8.2"
  }
 },
 "nbformat": 4,
 "nbformat_minor": 5
}
